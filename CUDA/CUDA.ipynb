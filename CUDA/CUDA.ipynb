{
  "nbformat": 4,
  "nbformat_minor": 0,
  "metadata": {
    "colab": {
      "provenance": [],
      "authorship_tag": "ABX9TyMRAhF5ntlXvic3EbHxueGd",
      "include_colab_link": true
    },
    "kernelspec": {
      "name": "python3",
      "display_name": "Python 3"
    },
    "language_info": {
      "name": "python"
    },
    "accelerator": "GPU",
    "gpuClass": "standard"
  },
  "cells": [
    {
      "cell_type": "markdown",
      "metadata": {
        "id": "view-in-github",
        "colab_type": "text"
      },
      "source": [
        "<a href=\"https://colab.research.google.com/github/kStasya/Distributed_computing/blob/main/CUDA/CUDA.ipynb\" target=\"_parent\"><img src=\"https://colab.research.google.com/assets/colab-badge.svg\" alt=\"Open In Colab\"/></a>"
      ]
    },
    {
      "cell_type": "code",
      "execution_count": null,
      "metadata": {
        "colab": {
          "base_uri": "https://localhost:8080/"
        },
        "id": "bc54LTgauffx",
        "outputId": "ccd13be2-dba8-4b96-910c-9ad4abfba98e"
      },
      "outputs": [
        {
          "output_type": "stream",
          "name": "stdout",
          "text": [
            "Thu Apr  6 15:19:10 2023       \n",
            "+-----------------------------------------------------------------------------+\n",
            "| NVIDIA-SMI 525.85.12    Driver Version: 525.85.12    CUDA Version: 12.0     |\n",
            "|-------------------------------+----------------------+----------------------+\n",
            "| GPU  Name        Persistence-M| Bus-Id        Disp.A | Volatile Uncorr. ECC |\n",
            "| Fan  Temp  Perf  Pwr:Usage/Cap|         Memory-Usage | GPU-Util  Compute M. |\n",
            "|                               |                      |               MIG M. |\n",
            "|===============================+======================+======================|\n",
            "|   0  Tesla T4            Off  | 00000000:00:04.0 Off |                    0 |\n",
            "| N/A   40C    P8     9W /  70W |      0MiB / 15360MiB |      0%      Default |\n",
            "|                               |                      |                  N/A |\n",
            "+-------------------------------+----------------------+----------------------+\n",
            "                                                                               \n",
            "+-----------------------------------------------------------------------------+\n",
            "| Processes:                                                                  |\n",
            "|  GPU   GI   CI        PID   Type   Process name                  GPU Memory |\n",
            "|        ID   ID                                                   Usage      |\n",
            "|=============================================================================|\n",
            "|  No running processes found                                                 |\n",
            "+-----------------------------------------------------------------------------+\n"
          ]
        }
      ],
      "source": [
        "!nvidia-smi"
      ]
    },
    {
      "cell_type": "code",
      "source": [
        "!nvcc --version"
      ],
      "metadata": {
        "colab": {
          "base_uri": "https://localhost:8080/"
        },
        "id": "q7P_DfkAvLS_",
        "outputId": "ef5efca3-0b86-4ea3-f92e-db64884e39ec"
      },
      "execution_count": null,
      "outputs": [
        {
          "output_type": "stream",
          "name": "stdout",
          "text": [
            "nvcc: NVIDIA (R) Cuda compiler driver\n",
            "Copyright (c) 2005-2022 NVIDIA Corporation\n",
            "Built on Wed_Sep_21_10:33:58_PDT_2022\n",
            "Cuda compilation tools, release 11.8, V11.8.89\n",
            "Build cuda_11.8.r11.8/compiler.31833905_0\n"
          ]
        }
      ]
    },
    {
      "cell_type": "code",
      "source": [
        "import numpy as np\n",
        "import time\n",
        "from numba import jit"
      ],
      "metadata": {
        "id": "MpggO9wCw0dB"
      },
      "execution_count": null,
      "outputs": []
    },
    {
      "cell_type": "markdown",
      "source": [
        "##Задание №2\n",
        "\n",
        "\n"
      ],
      "metadata": {
        "id": "MkBs9ZyZzyKH"
      }
    },
    {
      "cell_type": "code",
      "source": [
        "# without GPU\n",
        "def task2_cpu(x):\n",
        "  N = x.shape[0]\n",
        "  b = np.zeros(N)\n",
        "  for j in range(0, N):\n",
        "    if (j==0):\n",
        "      b[j] = (a[j] + a[j+1]) / 2\n",
        "    elif (j==N-1):\n",
        "      b[j] = (a[j] + a[j-1]) / 2\n",
        "    else:\n",
        "      b[j] = (a[j-1] + a[j] + a[j+1]) / 3\n",
        "  return b"
      ],
      "metadata": {
        "id": "ZpZT9WcK9pYn"
      },
      "execution_count": null,
      "outputs": []
    },
    {
      "cell_type": "code",
      "source": [
        "# with GPU\n",
        "@jit\n",
        "def task2_gpu(x):\n",
        "  N = x.shape[0]\n",
        "  b = np.zeros(N)\n",
        "  for j in range(0, N):\n",
        "    if (j==0):\n",
        "      b[j] = (a[j] + a[j+1]) / 2\n",
        "    elif (j==N-1):\n",
        "      b[j] = (a[j] + a[j-1]) / 2\n",
        "    else:\n",
        "      b[j] = (a[j-1] + a[j] + a[j+1]) / 3\n",
        "  return b"
      ],
      "metadata": {
        "id": "Bbq86Z100iC_"
      },
      "execution_count": null,
      "outputs": []
    },
    {
      "cell_type": "code",
      "source": [
        "N = 16000\n",
        "a = np.array([i for i in range(N)])\n",
        "\n",
        "# without GPU\n",
        "start = time.time()\n",
        "b_1 = task2_cpu(a)\n",
        "print(\"CPU. Elapsed time (with compilation): \", (time.time() - start), \"s.\", sep='')\n",
        "\n",
        "# with GPU\n",
        "start = time.time()\n",
        "b_2 = task2_gpu(a)\n",
        "print(\"GPU. Elapsed time (with compilation): \", (time.time() - start), \"s.\", sep='')"
      ],
      "metadata": {
        "colab": {
          "base_uri": "https://localhost:8080/"
        },
        "id": "N-ZylkBoz50q",
        "outputId": "f1a2150f-084c-4501-dc2e-9b4fccb741c7"
      },
      "execution_count": null,
      "outputs": [
        {
          "output_type": "stream",
          "name": "stdout",
          "text": [
            "CPU. Elapsed time (with compilation): 0.013727903366088867s.\n",
            "GPU. Elapsed time (with compilation): 0.6968071460723877s.\n"
          ]
        }
      ]
    },
    {
      "cell_type": "markdown",
      "source": [
        "## Задание №4"
      ],
      "metadata": {
        "id": "RYob7OIUAo4m"
      }
    },
    {
      "cell_type": "code",
      "source": [
        "# without GPU\n",
        "def task4_cpu(A, B):\n",
        "  a, b, c = A.shape[0], A.shape[1], B.shape[1]\n",
        "  C = np.zeros((a, c))\n",
        "  for i in range(a):\n",
        "    for j in range(b):\n",
        "      for k in range(c):\n",
        "        C[i][k] += A[i][j] * B[j][k]\n",
        "  return C"
      ],
      "metadata": {
        "id": "gijUgIMfAoe4"
      },
      "execution_count": null,
      "outputs": []
    },
    {
      "cell_type": "code",
      "source": [
        "# with GPU\n",
        "@jit\n",
        "def task4_gpu(A, B):\n",
        "  a, b, c = A.shape[0], A.shape[1], B.shape[1]\n",
        "  C = np.zeros((a, c))\n",
        "  for i in range(a):\n",
        "    for j in range(b):\n",
        "      for k in range(c):\n",
        "        C[i][k] += A[i][j] * B[j][k]\n",
        "  return C"
      ],
      "metadata": {
        "id": "4EO-7HsR_R3c"
      },
      "execution_count": null,
      "outputs": []
    },
    {
      "cell_type": "code",
      "source": [
        "a, b, c = 10, 15, 16  # размерности матриц A[a x b], B[b x c]\n",
        "A = np.random.rand(a, b) * 10\n",
        "B = np.random.rand(b, c) * 10\n",
        "\n",
        "start = time.time()\n",
        "C = task4_cpu(A, B)\n",
        "print(\"CPU. Elapsed time (with compilation): \", (time.time() - start), \"s.\", sep='')\n",
        "\n",
        "start = time.time()\n",
        "C = task4_gpu(A, B)\n",
        "print(\"GPU. Elapsed time (with compilation): \", (time.time() - start), \"s.\", sep='')"
      ],
      "metadata": {
        "colab": {
          "base_uri": "https://localhost:8080/"
        },
        "id": "278e9VNuBfbJ",
        "outputId": "e0fc19ed-f73d-4133-926b-ed4c74066675"
      },
      "execution_count": null,
      "outputs": [
        {
          "output_type": "stream",
          "name": "stdout",
          "text": [
            "CPU. Elapsed time (with compilation): 0.0036454200744628906s.\n",
            "GPU. Elapsed time (with compilation): 0.27398157119750977s.\n"
          ]
        }
      ]
    },
    {
      "cell_type": "markdown",
      "source": [
        "## Задание №5"
      ],
      "metadata": {
        "id": "x4Nj-gDrJY47"
      }
    },
    {
      "cell_type": "code",
      "source": [
        "@jit\n",
        "def task5(points):\n",
        "  N = points.shape[0]\n",
        "  return [np.sum(points.T[0])/N, np.sum(points.T[1])/N, np.sum(points.T[2])/N]"
      ],
      "metadata": {
        "id": "Llo3oVBrJYlz"
      },
      "execution_count": null,
      "outputs": []
    },
    {
      "cell_type": "code",
      "source": [
        "@jit\n",
        "def task5_axis(x):\n",
        "  N = x.shape[0]\n",
        "  return np.sum(x)/N"
      ],
      "metadata": {
        "id": "OMtL4drTDS1P"
      },
      "execution_count": null,
      "outputs": []
    },
    {
      "cell_type": "code",
      "source": [
        "N = 1000\n",
        "points = np.array([np.random.rand(3) for i in range(N)])\n",
        "\n",
        "start = time.time()\n",
        "mean = task5(points)\n",
        "print(\"One function. Elapsed time (with compilation): \", (time.time() - start), \"s.\", sep='')\n",
        "\n",
        "start = time.time()\n",
        "mean_x = task5_axis(points.T[0])\n",
        "mean_y = task5_axis(points.T[1])\n",
        "mean_z = task5_axis(points.T[2])\n",
        "print(\"Functional decomposition. Elapsed time (with compilation): \", (time.time() - start), \"s.\", sep='')"
      ],
      "metadata": {
        "colab": {
          "base_uri": "https://localhost:8080/"
        },
        "id": "7D-XnL93KIGl",
        "outputId": "6d2d87b0-d144-4690-c6bf-60f15a5b277f"
      },
      "execution_count": null,
      "outputs": [
        {
          "output_type": "stream",
          "name": "stdout",
          "text": [
            "One function. Elapsed time (with compilation): 0.22918367385864258s.\n",
            "Functional decomposition. Elapsed time (with compilation): 0.0646357536315918s.\n"
          ]
        }
      ]
    },
    {
      "cell_type": "code",
      "source": [
        "def f(x):\n",
        "  return x**3 - 3"
      ],
      "metadata": {
        "id": "T4xMWC-HSAxZ"
      },
      "execution_count": null,
      "outputs": []
    },
    {
      "cell_type": "markdown",
      "source": [
        "# Основное задание\n",
        "## Задание №2\n",
        "\n",
        "Вычисляемый интеграл:\n",
        "$$ \\int_a^b (x^3 - 3)dx, $$\n",
        "где $a=1, $ $b=3$.\n",
        "\n",
        "Формула вычисления определенного интеграла методом трапеции:\n",
        "$$ \\int_{x_0}^{x_n}f(x)dx = \\big(f(x_0) + f(x_n) + 2\\sum_{i=1}^{n-1}f(x_i) \\big) \\cdot \\frac{h}{2}, $$\n",
        "где $ x_0 = a,$ $x_n = b,$ $x_i = a + \\frac{i \\cdot (b-a)}{n},$ $i = \\overline{1, n-1}.$"
      ],
      "metadata": {
        "id": "7712P6vZR9nQ"
      }
    },
    {
      "cell_type": "code",
      "source": [
        "@jit\n",
        "def task2(a, b, N):\n",
        "  integral = (a**3 + b**3 - 6) / 2\n",
        "  for i in range(1, N-1):\n",
        "    integral += ((a + i * (b - a))**3 - 3) / N\n",
        "  integral *= (b - a) / N\n",
        "  return integral"
      ],
      "metadata": {
        "id": "VFJu9IS4DmGt"
      },
      "execution_count": null,
      "outputs": []
    },
    {
      "cell_type": "code",
      "source": [
        "N = [1000, 3000, 5000, 10000, 15000]\n",
        "a = 1\n",
        "b = 3\n",
        "for n in N:\n",
        "  start = time.time()\n",
        "  integral = task2(a, b, n)\n",
        "  print(\"N = \", n, \". Elapsed time (with compilation): \", (time.time() - start), \"s.\", sep='')"
      ],
      "metadata": {
        "colab": {
          "base_uri": "https://localhost:8080/"
        },
        "id": "b2531G_rDvZH",
        "outputId": "4d16534d-6406-4170-944a-6f3f77f55bbf"
      },
      "execution_count": null,
      "outputs": [
        {
          "output_type": "stream",
          "name": "stdout",
          "text": [
            "N = 1000. Elapsed time (with compilation): 0.19311261177062988s.\n",
            "N = 3000. Elapsed time (with compilation): 1.0967254638671875e-05s.\n",
            "N = 5000. Elapsed time (with compilation): 1.0728836059570312e-05s.\n",
            "N = 10000. Elapsed time (with compilation): 1.8596649169921875e-05s.\n",
            "N = 15000. Elapsed time (with compilation): 2.7179718017578125e-05s.\n"
          ]
        }
      ]
    },
    {
      "cell_type": "code",
      "source": [
        "def task2_cpu(a, b, N):\n",
        "  integral = (a**3 + b**3 - 6) / 2\n",
        "  for i in range(1, N-1):\n",
        "    integral += ((a + i * (b - a))**3 - 3) / N\n",
        "  integral *= (b - a) / N\n",
        "  return integral"
      ],
      "metadata": {
        "id": "77i47ngoHPVR"
      },
      "execution_count": null,
      "outputs": []
    },
    {
      "cell_type": "code",
      "source": [
        "for n in N:\n",
        "  start = time.time()\n",
        "  integral = task2_cpu(a, b, n)\n",
        "  print(\"N = \", n, \". Elapsed time (with compilation): \", (time.time() - start), \"s.\", sep='')"
      ],
      "metadata": {
        "colab": {
          "base_uri": "https://localhost:8080/"
        },
        "id": "Xr040n2EHSYF",
        "outputId": "b6f8ede7-fb06-4ef1-c126-38a2cc9ab6e6"
      },
      "execution_count": null,
      "outputs": [
        {
          "output_type": "stream",
          "name": "stdout",
          "text": [
            "N = 1000. Elapsed time (with compilation): 0.0006968975067138672s.\n",
            "N = 3000. Elapsed time (with compilation): 0.0033292770385742188s.\n",
            "N = 5000. Elapsed time (with compilation): 0.0030450820922851562s.\n",
            "N = 10000. Elapsed time (with compilation): 0.009258270263671875s.\n",
            "N = 15000. Elapsed time (with compilation): 0.013104438781738281s.\n"
          ]
        }
      ]
    }
  ]
}